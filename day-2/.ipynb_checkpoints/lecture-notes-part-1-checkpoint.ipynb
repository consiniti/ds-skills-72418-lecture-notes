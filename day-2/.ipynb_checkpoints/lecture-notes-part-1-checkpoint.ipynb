{
 "cells": [
  {
   "cell_type": "markdown",
   "metadata": {},
   "source": [
    "# Data Science Skills Course - Day 2"
   ]
  },
  {
   "cell_type": "markdown",
   "metadata": {},
   "source": [
    "## Data Types Review"
   ]
  },
  {
   "cell_type": "markdown",
   "metadata": {},
   "source": [
    "![title](dataStruct.png)"
   ]
  },
  {
   "cell_type": "markdown",
   "metadata": {},
   "source": [
    "### Primitive DataTypes:\n",
    "1. Strings\n",
    "2. Integers\n",
    "3. Floats\n",
    "4. Booleans"
   ]
  },
  {
   "cell_type": "code",
   "execution_count": 1,
   "metadata": {},
   "outputs": [
    {
     "data": {
      "text/plain": [
       "str"
      ]
     },
     "execution_count": 1,
     "metadata": {},
     "output_type": "execute_result"
    }
   ],
   "source": [
    "# Strings\n",
    "\n",
    "favorite_entree = \"pepperoni pizza\"\n",
    "favorite_dessert = '3 scoops of ice cream'\n",
    "\n",
    "type(favorite_entree)"
   ]
  },
  {
   "cell_type": "code",
   "execution_count": 2,
   "metadata": {},
   "outputs": [
    {
     "data": {
      "text/plain": [
       "int"
      ]
     },
     "execution_count": 2,
     "metadata": {},
     "output_type": "execute_result"
    }
   ],
   "source": [
    "# Integers\n",
    "\n",
    "num_of_calories = 3000\n",
    "type(num_of_calories)"
   ]
  },
  {
   "cell_type": "code",
   "execution_count": 3,
   "metadata": {},
   "outputs": [
    {
     "data": {
      "text/plain": [
       "float"
      ]
     },
     "execution_count": 3,
     "metadata": {},
     "output_type": "execute_result"
    }
   ],
   "source": [
    "# Floats\n",
    "\n",
    "pi = 3.14159\n",
    "type(pi)"
   ]
  },
  {
   "cell_type": "code",
   "execution_count": 4,
   "metadata": {},
   "outputs": [
    {
     "data": {
      "text/plain": [
       "False"
      ]
     },
     "execution_count": 4,
     "metadata": {},
     "output_type": "execute_result"
    }
   ],
   "source": [
    "# Booleans\n",
    "\n",
    "True\n",
    "False"
   ]
  },
  {
   "cell_type": "markdown",
   "metadata": {},
   "source": [
    "### Non-primitive DataTypes:\n",
    "\n",
    "1. Lists\n",
    "2. Dictionaries"
   ]
  },
  {
   "cell_type": "markdown",
   "metadata": {},
   "source": [
    "#### Lists are an ordered collection of elements\n",
    "* Created with **square brackets**\n",
    "* A list can contain duplicates elements\n",
    "* Elements can be of any data type"
   ]
  },
  {
   "cell_type": "code",
   "execution_count": 8,
   "metadata": {},
   "outputs": [],
   "source": [
    "flatiron_instructors = ['Laura', 'Tashawn', 'Forrest', 'Gary', 'Gary']\n",
    "flatiron_instructors\n",
    "\n",
    "languages = list(('Python', 'Ruby', 'JavaScript', 'Elixir', 'C++'))"
   ]
  },
  {
   "cell_type": "code",
   "execution_count": 9,
   "metadata": {},
   "outputs": [
    {
     "data": {
      "text/plain": [
       "['pepperoni pizza', '3 scoops of ice cream', 3000, 3.14159]"
      ]
     },
     "execution_count": 9,
     "metadata": {},
     "output_type": "execute_result"
    }
   ],
   "source": [
    "random_list = [True, 'Skiing', 408, 3.14159]\n",
    "\n",
    "vars_defined_above = [favorite_entree, favorite_dessert, num_of_calories, pi]\n",
    "vars_defined_above"
   ]
  },
  {
   "cell_type": "markdown",
   "metadata": {},
   "source": [
    "### Dictionaries are a collection of unordered key/value pairs\n",
    "* Created with **curly brackets**\n",
    "* Keys should be unique --> if there are duplicate keys, python will overwrite the previous values"
   ]
  },
  {
   "cell_type": "code",
   "execution_count": 10,
   "metadata": {},
   "outputs": [
    {
     "data": {
      "text/plain": [
       "{'Forrest': 'JavaScript', 'Gary': 'C++', 'Laura': 'Python', 'Tashawn': 'Ruby'}"
      ]
     },
     "execution_count": 10,
     "metadata": {},
     "output_type": "execute_result"
    }
   ],
   "source": [
    "instructors_fave_languages = {'Laura': 'Python', \n",
    "                              'Tashawn': 'Ruby', \n",
    "                              'Forrest': 'JavaScript', \n",
    "                              'Gary': 'Elixir', \n",
    "                              'Gary': 'C++'}\n",
    "\n",
    "instructors_fave_languages"
   ]
  },
  {
   "cell_type": "markdown",
   "metadata": {},
   "source": [
    "\n",
    "\n",
    "\n",
    "# Working with Data Types\n",
    "\n",
    "### Strings"
   ]
  },
  {
   "cell_type": "code",
   "execution_count": 11,
   "metadata": {},
   "outputs": [],
   "source": [
    "favorite_entree = \"pepperoni pizza\"\n",
    "favorite_dessert = '3 scoops of ice cream'"
   ]
  },
  {
   "cell_type": "code",
   "execution_count": 16,
   "metadata": {},
   "outputs": [
    {
     "data": {
      "text/plain": [
       "'o'"
      ]
     },
     "execution_count": 16,
     "metadata": {},
     "output_type": "execute_result"
    }
   ],
   "source": [
    "# accessing characters of a string\n",
    "\n",
    "first_character = favorite_entree[-1]\n",
    "only_os = favorite_dessert[4]\n",
    "only_os"
   ]
  },
  {
   "cell_type": "code",
   "execution_count": 18,
   "metadata": {},
   "outputs": [
    {
     "data": {
      "text/plain": [
       "'5 pepperoni pizzas'"
      ]
     },
     "execution_count": 18,
     "metadata": {},
     "output_type": "execute_result"
    }
   ],
   "source": [
    "# adding to a string\n",
    "\n",
    "superbowl_meal = '5 ' + favorite_entree + 's'\n",
    "superbowl_meal"
   ]
  },
  {
   "cell_type": "code",
   "execution_count": 24,
   "metadata": {},
   "outputs": [
    {
     "name": "stdout",
     "output_type": "stream",
     "text": [
      "4544049344\n",
      "4544050496\n"
     ]
    },
    {
     "data": {
      "text/plain": [
       "'5 PEPPERONI PIZZAS'"
      ]
     },
     "execution_count": 24,
     "metadata": {},
     "output_type": "execute_result"
    }
   ],
   "source": [
    "# using Python's built-in string methods\n",
    "\n",
    "# dir(favorite_entree)\n",
    "print(id(superbowl_meal))\n",
    "print(id(superbowl_meal.upper()))\n",
    "\n",
    "id(superbowl_meal) == superbowl_meal.lower()\n",
    "excited_meal = superbowl_meal.upper()\n",
    "excited_meal"
   ]
  },
  {
   "cell_type": "markdown",
   "metadata": {},
   "source": [
    "### Lists"
   ]
  },
  {
   "cell_type": "code",
   "execution_count": null,
   "metadata": {},
   "outputs": [],
   "source": [
    "# help(list)"
   ]
  },
  {
   "cell_type": "code",
   "execution_count": 25,
   "metadata": {},
   "outputs": [],
   "source": [
    "flatiron_instructors = ['Laura', 'Tashawn', 'Forrest', 'Gary', 'Gary']\n",
    "\n",
    "languages = ['Python', 'Ruby', 'JavaScript', 'Elixir', 'C++']"
   ]
  },
  {
   "cell_type": "code",
   "execution_count": 32,
   "metadata": {},
   "outputs": [
    {
     "data": {
      "text/plain": [
       "['Ruby', 'JavaScript', 'Elixir']"
      ]
     },
     "execution_count": 32,
     "metadata": {},
     "output_type": "execute_result"
    }
   ],
   "source": [
    "# accessing elements of a list\n",
    "\n",
    "laura = flatiron_instructors[0]\n",
    "c_plus_plus = languages[-1]\n",
    "middle_elements = languages[1:-1]\n",
    "middle_elements"
   ]
  },
  {
   "cell_type": "code",
   "execution_count": 34,
   "metadata": {},
   "outputs": [
    {
     "data": {
      "text/plain": [
       "['Python', 'Ruby', 'JavaScript', 'Erlang', 'C++']"
      ]
     },
     "execution_count": 34,
     "metadata": {},
     "output_type": "execute_result"
    }
   ],
   "source": [
    "# reassinging elements of a list\n",
    "\n",
    "languages[3] = 'Erlang'\n",
    "languages"
   ]
  },
  {
   "cell_type": "code",
   "execution_count": 51,
   "metadata": {},
   "outputs": [
    {
     "data": {
      "text/plain": [
       "['Python', 'JavaScript', 'SQL', 'Erlang']"
      ]
     },
     "execution_count": 51,
     "metadata": {},
     "output_type": "execute_result"
    }
   ],
   "source": [
    "# using Python built-in list methods\n",
    "\n",
    "# adding elements to a list\n",
    "# languages.append('C++')\n",
    "\n",
    "# removing elements from a list\n",
    "# languages.remove('Ruby')\n",
    "# languages\n",
    "\n",
    "languages"
   ]
  },
  {
   "cell_type": "markdown",
   "metadata": {},
   "source": [
    "# Paired Coding Challenge #1"
   ]
  },
  {
   "cell_type": "code",
   "execution_count": 6,
   "metadata": {},
   "outputs": [
    {
     "data": {
      "text/plain": [
       "6"
      ]
     },
     "execution_count": 6,
     "metadata": {},
     "output_type": "execute_result"
    }
   ],
   "source": [
    "# 1. Grab the number 6 from this nested_list and set it equal to the number_six variable\n",
    "\n",
    "nested_list = [1, [2, [4, [5, [6]], 3]]]\n",
    "number_six = nested_list[1][1][1][1][0]\n",
    "number_six"
   ]
  },
  {
   "cell_type": "code",
   "execution_count": 21,
   "metadata": {},
   "outputs": [
    {
     "data": {
      "text/plain": [
       "['__add__',\n",
       " '__class__',\n",
       " '__contains__',\n",
       " '__delattr__',\n",
       " '__delitem__',\n",
       " '__dir__',\n",
       " '__doc__',\n",
       " '__eq__',\n",
       " '__format__',\n",
       " '__ge__',\n",
       " '__getattribute__',\n",
       " '__getitem__',\n",
       " '__gt__',\n",
       " '__hash__',\n",
       " '__iadd__',\n",
       " '__imul__',\n",
       " '__init__',\n",
       " '__init_subclass__',\n",
       " '__iter__',\n",
       " '__le__',\n",
       " '__len__',\n",
       " '__lt__',\n",
       " '__mul__',\n",
       " '__ne__',\n",
       " '__new__',\n",
       " '__reduce__',\n",
       " '__reduce_ex__',\n",
       " '__repr__',\n",
       " '__reversed__',\n",
       " '__rmul__',\n",
       " '__setattr__',\n",
       " '__setitem__',\n",
       " '__sizeof__',\n",
       " '__str__',\n",
       " '__subclasshook__',\n",
       " 'append',\n",
       " 'clear',\n",
       " 'copy',\n",
       " 'count',\n",
       " 'extend',\n",
       " 'index',\n",
       " 'insert',\n",
       " 'pop',\n",
       " 'remove',\n",
       " 'reverse',\n",
       " 'sort']"
      ]
     },
     "execution_count": 21,
     "metadata": {},
     "output_type": "execute_result"
    }
   ],
   "source": [
    "# 2. Sort the cats list in alphabetical order\n",
    "\n",
    "cats = ['Maine Coon', 'Tabby', 'Siamese', 'Garfield', 'Sylvester', 'Maine Coon']\n",
    "\n",
    "# cats.sort()\n",
    "\n",
    "dir(list)\n",
    "# cats.sort()\n",
    "# len('Maine Coon')\n",
    "# cats"
   ]
  },
  {
   "cell_type": "code",
   "execution_count": 23,
   "metadata": {},
   "outputs": [
    {
     "data": {
      "text/plain": [
       "['Tabby', 'Siamese', 'Garfield', 'Sylvester']"
      ]
     },
     "execution_count": 23,
     "metadata": {},
     "output_type": "execute_result"
    }
   ],
   "source": [
    "# 3. Look up a new string or list method and explain how it works\n",
    "\n",
    "cats.remove('Maine Coon')\n",
    "cats"
   ]
  },
  {
   "cell_type": "code",
   "execution_count": 28,
   "metadata": {},
   "outputs": [
    {
     "data": {
      "text/plain": [
       "['Maine Coon Jr.', 'Tabby Jr.', 'Siamese Jr.', 'Garfield Jr.', 'Sylvester Jr.']"
      ]
     },
     "execution_count": 28,
     "metadata": {},
     "output_type": "execute_result"
    }
   ],
   "source": [
    "# 4. Create a new list cat_jrs by appending 'Jr.' to each of the cats names\n",
    "\n",
    "cats = ['Maine Coon', 'Tabby', 'Siamese', 'Garfield', 'Sylvester']\n",
    "\n",
    "# cat_jrs = [element + \" Jr.\" for element in cats]\n",
    "\n",
    "\n",
    "cat_jrs = []\n",
    "\n",
    "for element in cats:\n",
    "    cat_jrs.append(element + ' Jr.')\n",
    "    \n",
    "cat_jrs"
   ]
  },
  {
   "cell_type": "code",
   "execution_count": 29,
   "metadata": {},
   "outputs": [
    {
     "data": {
      "text/plain": [
       "['Maine Coon',\n",
       " 'Tabby',\n",
       " 'Siamese',\n",
       " 'Garfield',\n",
       " 'Sylvester',\n",
       " 'Scooby',\n",
       " 'Scrappy',\n",
       " 'Clifford',\n",
       " 'Pickles',\n",
       " 'Floyd']"
      ]
     },
     "execution_count": 29,
     "metadata": {},
     "output_type": "execute_result"
    }
   ],
   "source": [
    "# 5. create a pets array that contains the elements of the cats and dogs lists \n",
    "\n",
    "cats = ['Maine Coon', 'Tabby', 'Siamese', 'Garfield', 'Sylvester']\n",
    "dogs = ['Scooby', 'Scrappy', 'Clifford', 'Pickles', 'Floyd']\n",
    "animals = cats + dogs\n",
    "animals"
   ]
  },
  {
   "cell_type": "code",
   "execution_count": 31,
   "metadata": {},
   "outputs": [
    {
     "data": {
      "text/plain": [
       "['Maine Coon',\n",
       " 'Tabby',\n",
       " 'Siamese',\n",
       " 'Garfield',\n",
       " 'Sylvester',\n",
       " 'Scooby',\n",
       " 'Scrappy',\n",
       " 'Clifford',\n",
       " 'Pickles',\n",
       " 'Floyd']"
      ]
     },
     "execution_count": 31,
     "metadata": {},
     "output_type": "execute_result"
    }
   ],
   "source": [
    "# 6. add the cats in more_cats to the original list of cats\n",
    "\n",
    "cats = ['Maine Coon', 'Tabby', 'Siamese', 'Garfield', 'Sylvester']\n",
    "more_cats = ['Horatio', 'Whiskers', 'Chesire']\n",
    "cats.extend(dogs)\n",
    "cats\n",
    "\n",
    "# cats = cats + more_cats"
   ]
  },
  {
   "cell_type": "code",
   "execution_count": 32,
   "metadata": {},
   "outputs": [
    {
     "data": {
      "text/plain": [
       "['Siamese', 'Tabby', 'Maine Coon', 'Sylvester', 'Garfield']"
      ]
     },
     "execution_count": 32,
     "metadata": {},
     "output_type": "execute_result"
    }
   ],
   "source": [
    "# BONUS: Sorts the cats list in alphabetical order by third character of each element\n",
    "\n",
    "cats = ['Maine Coon', 'Tabby', 'Siamese', 'Garfield', 'Sylvester']\n",
    "sorted_by_third_char = sorted(cats, key=lambda element: element[2])\n",
    "sorted_by_third_char"
   ]
  },
  {
   "cell_type": "code",
   "execution_count": null,
   "metadata": {},
   "outputs": [],
   "source": []
  }
 ],
 "metadata": {
  "kernelspec": {
   "display_name": "Python 3",
   "language": "python",
   "name": "python3"
  },
  "language_info": {
   "codemirror_mode": {
    "name": "ipython",
    "version": 3
   },
   "file_extension": ".py",
   "mimetype": "text/x-python",
   "name": "python",
   "nbconvert_exporter": "python",
   "pygments_lexer": "ipython3",
   "version": "3.6.4"
  }
 },
 "nbformat": 4,
 "nbformat_minor": 2
}
